{
 "cells": [
  {
   "cell_type": "code",
   "execution_count": 3,
   "metadata": {
    "_cell_guid": "b1076dfc-b9ad-4769-8c92-a6c4dae69d19",
    "_uuid": "8f2839f25d086af736a60e9eeb907d3b93b6e0e5",
    "execution": {
     "iopub.execute_input": "2022-04-28T14:35:13.096769Z",
     "iopub.status.busy": "2022-04-28T14:35:13.096200Z",
     "iopub.status.idle": "2022-04-28T14:35:13.110636Z",
     "shell.execute_reply": "2022-04-28T14:35:13.109718Z",
     "shell.execute_reply.started": "2022-04-28T14:35:13.096728Z"
    }
   },
   "outputs": [
    {
     "name": "stdout",
     "output_type": "stream",
     "text": [
      "/kaggle/input/newspaper-text-summarization-cnn-dailymail/cnn_dailymail/validation.csv\n",
      "/kaggle/input/newspaper-text-summarization-cnn-dailymail/cnn_dailymail/train.csv\n",
      "/kaggle/input/newspaper-text-summarization-cnn-dailymail/cnn_dailymail/test.csv\n"
     ]
    }
   ],
   "source": [
    "# This Python 3 environment comes with many helpful analytics libraries installed\n",
    "# It is defined by the kaggle/python Docker image: https://github.com/kaggle/docker-python\n",
    "# For example, here's several helpful packages to load\n",
    "\n",
    "import numpy as np # linear algebra\n",
    "import pandas as pd # data processing, CSV file I/O (e.g. pd.read_csv)\n",
    "\n",
    "# Input data files are available in the read-only \"../input/\" directory\n",
    "# For example, running this (by clicking run or pressing Shift+Enter) will list all files under the input directory\n",
    "\n",
    "import os\n",
    "for dirname, _, filenames in os.walk('/kaggle/input'):\n",
    "    for filename in filenames:\n",
    "        print(os.path.join(dirname, filename))\n",
    "\n",
    "# You can write up to 20GB to the current directory (/kaggle/working/) that gets preserved as output when you create a version using \"Save & Run All\" \n",
    "# You can also write temporary files to /kaggle/temp/, but they won't be saved outside of the current session"
   ]
  },
  {
   "cell_type": "code",
   "execution_count": 4,
   "metadata": {
    "execution": {
     "iopub.execute_input": "2022-04-28T14:35:13.112552Z",
     "iopub.status.busy": "2022-04-28T14:35:13.112213Z",
     "iopub.status.idle": "2022-04-28T14:35:38.016395Z",
     "shell.execute_reply": "2022-04-28T14:35:38.015436Z",
     "shell.execute_reply.started": "2022-04-28T14:35:13.112514Z"
    }
   },
   "outputs": [],
   "source": [
    "trainning_df = pd.read_csv('../input/newspaper-text-summarization-cnn-dailymail/cnn_dailymail/train.csv')"
   ]
  },
  {
   "cell_type": "code",
   "execution_count": 5,
   "metadata": {
    "execution": {
     "iopub.execute_input": "2022-04-28T14:35:38.024161Z",
     "iopub.status.busy": "2022-04-28T14:35:38.021949Z",
     "iopub.status.idle": "2022-04-28T14:35:38.050567Z",
     "shell.execute_reply": "2022-04-28T14:35:38.049941Z",
     "shell.execute_reply.started": "2022-04-28T14:35:38.024120Z"
    }
   },
   "outputs": [
    {
     "data": {
      "text/html": [
       "<div>\n",
       "<style scoped>\n",
       "    .dataframe tbody tr th:only-of-type {\n",
       "        vertical-align: middle;\n",
       "    }\n",
       "\n",
       "    .dataframe tbody tr th {\n",
       "        vertical-align: top;\n",
       "    }\n",
       "\n",
       "    .dataframe thead th {\n",
       "        text-align: right;\n",
       "    }\n",
       "</style>\n",
       "<table border=\"1\" class=\"dataframe\">\n",
       "  <thead>\n",
       "    <tr style=\"text-align: right;\">\n",
       "      <th></th>\n",
       "      <th>id</th>\n",
       "      <th>article</th>\n",
       "      <th>highlights</th>\n",
       "    </tr>\n",
       "  </thead>\n",
       "  <tbody>\n",
       "    <tr>\n",
       "      <th>0</th>\n",
       "      <td>0001d1afc246a7964130f43ae940af6bc6c57f01</td>\n",
       "      <td>By . Associated Press . PUBLISHED: . 14:11 EST, 25 October 2013 . | . UPDATED: . 15:36 EST, 25 October 2013 . The bishop of the Fargo Catholic Diocese in North Dakota has exposed potentially hundreds of church members in Fargo, Grand Forks and Jamestown to the hepatitis A virus in late September and early October. The state Health Department has issued an advisory of exposure for anyone who attended five churches and took communion. Bishop John Folda (pictured) of the Fargo Catholic Diocese in North Dakota has exposed potentially hundreds of church members in Fargo, Grand Forks and Jamestown to the hepatitis A . State Immunization Program Manager Molly Howell says the risk is low, but officials feel it's important to alert people to the possible exposure. The diocese announced on Monda...</td>\n",
       "      <td>Bishop John Folda, of North Dakota, is taking time off after being diagnosed .\\nHe contracted the infection through contaminated food in Italy .\\nChurch members in Fargo, Grand Forks and Jamestown could have been exposed .</td>\n",
       "    </tr>\n",
       "    <tr>\n",
       "      <th>1</th>\n",
       "      <td>0002095e55fcbd3a2f366d9bf92a95433dc305ef</td>\n",
       "      <td>(CNN) -- Ralph Mata was an internal affairs lieutenant for the Miami-Dade Police Department, working in the division that investigates allegations of wrongdoing by cops. Outside the office, authorities allege that the 45-year-old longtime officer worked with a drug trafficking organization to help plan a murder plot and get guns. A criminal complaint unsealed in U.S. District Court in New Jersey Tuesday accuses Mata, also known as \"The Milk Man,\" of using his role as a police officer to help the drug trafficking organization in exchange for money and gifts, including a Rolex watch. In one instance, the complaint alleges, Mata arranged to pay two assassins to kill rival drug dealers. The killers would pose as cops, pulling over their targets before shooting them, according to the compla...</td>\n",
       "      <td>Criminal complaint: Cop used his role to help cocaine traffickers .\\nRalph Mata, an internal affairs lieutenant, allegedly helped group get guns .\\nHe also arranged to pay two assassins in a murder plot, a complaint alleges .</td>\n",
       "    </tr>\n",
       "    <tr>\n",
       "      <th>2</th>\n",
       "      <td>00027e965c8264c35cc1bc55556db388da82b07f</td>\n",
       "      <td>A drunk driver who killed a young woman in a head-on crash while checking his mobile phone has been jailed for six years. Craig Eccleston-Todd, 27, was driving home from a night at a pub when he received a text message. As he was reading or replying to it, he veered across the road while driving round a bend and smashed into Rachel Titley’s car coming the other way. Craig Eccleston-Todd, 27 (left) was using his mobile phone when he crashed head-on into the car being driven by Rachel Titley, 28 (right). She died later from her injuries . The head-on crash took place in October 2013. Mr Eccleston-Todd's car was barely recognisable (pictured) Police said Eccleston-Todd had drunk at least three or four pints of beer before getting behind the wheel. He was found guilty of causing death by d...</td>\n",
       "      <td>Craig Eccleston-Todd, 27, had drunk at least three pints before driving car .\\nWas using phone when he veered across road in Yarmouth, Isle of Wight .\\nCrashed head-on into 28-year-old Rachel Titley's car, who died in hospital .\\nPolice say he would have been over legal drink-drive limit at time of crash .\\nHe was found guilty at Portsmouth Crown Court of causing death by dangerous driving .</td>\n",
       "    </tr>\n",
       "    <tr>\n",
       "      <th>3</th>\n",
       "      <td>0002c17436637c4fe1837c935c04de47adb18e9a</td>\n",
       "      <td>(CNN) -- With a breezy sweep of his pen President Vladimir Putin wrote a new chapter into Crimea's turbulent history, committing the region to a future returned to Russian domain. Sixty years prior, Ukraine's breakaway peninsula was signed away just as swiftly by Soviet leader Nikita Khrushchev. But dealing with such a blatant land grab on its eastern flank won't be anywhere near as quick and easy for Europe's 28-member union. Because, unlike Crimea's rushed referendum, everyone has a say. After initially slapping visa restrictions and asset freezes on a limited number of little known politicians and military men, Europe is facing urgent calls to widen the scope of its measures to target the Russian business community in particular. The logic of this is that those who run Russia and ow...</td>\n",
       "      <td>Nina dos Santos says Europe must be ready to accept sanctions will hurt both sides .\\nTargeting Russia's business community would be one way of sapping their support for President Putin, she says .\\nBut she says Europe would have a hard time keeping its factories going without power from the east .</td>\n",
       "    </tr>\n",
       "    <tr>\n",
       "      <th>4</th>\n",
       "      <td>0003ad6ef0c37534f80b55b4235108024b407f0b</td>\n",
       "      <td>Fleetwood are the only team still to have a 100% record in Sky Bet League One as a 2-0 win over Scunthorpe sent Graham Alexander’s men top of the table. The Cod Army are playing in the third tier for the first time in their history after six promotions in nine years and their remarkable ascent shows no sign of slowing with Jamie Proctor and Gareth Evans scoring the goals at Glanford Park. Fleetwood were one of five teams to have won two out of two but the other four clubs - Peterborough, Bristol City, Chesterfield and Crawley - all hit their first stumbling blocks. Posh were defeated 2-1 by Sheffield United, who had lost both of their opening contests. Jose Baxter’s opener gave the Blades a first-half lead, and although it was later cancelled out by Shaun Brisley’s goal, Ben Davies sna...</td>\n",
       "      <td>Fleetwood top of League One after 2-0 win at Scunthorpe .\\nPeterborough, Bristol City, Chesterfield and Crawley all drop first points of the season .\\nStand-in striker Matt Done scores a hat-trick as Rochdale thrash Crewe 5-2 .\\nWins for Notts County and Yeovil .\\nCoventry/Bradford and Oldham/Port Vale both end in draws .\\nA late Stephen Bywater own goal denies Gillingham three points against Millwall .</td>\n",
       "    </tr>\n",
       "  </tbody>\n",
       "</table>\n",
       "</div>"
      ],
      "text/plain": [
       "                                         id  \\\n",
       "0  0001d1afc246a7964130f43ae940af6bc6c57f01   \n",
       "1  0002095e55fcbd3a2f366d9bf92a95433dc305ef   \n",
       "2  00027e965c8264c35cc1bc55556db388da82b07f   \n",
       "3  0002c17436637c4fe1837c935c04de47adb18e9a   \n",
       "4  0003ad6ef0c37534f80b55b4235108024b407f0b   \n",
       "\n",
       "                                                                                                                                                                                                                                                                                                                                                                                                                                                                                                                                                                                                                                                                                                                                                                                                                           article  \\\n",
       "0  By . Associated Press . PUBLISHED: . 14:11 EST, 25 October 2013 . | . UPDATED: . 15:36 EST, 25 October 2013 . The bishop of the Fargo Catholic Diocese in North Dakota has exposed potentially hundreds of church members in Fargo, Grand Forks and Jamestown to the hepatitis A virus in late September and early October. The state Health Department has issued an advisory of exposure for anyone who attended five churches and took communion. Bishop John Folda (pictured) of the Fargo Catholic Diocese in North Dakota has exposed potentially hundreds of church members in Fargo, Grand Forks and Jamestown to the hepatitis A . State Immunization Program Manager Molly Howell says the risk is low, but officials feel it's important to alert people to the possible exposure. The diocese announced on Monda...   \n",
       "1  (CNN) -- Ralph Mata was an internal affairs lieutenant for the Miami-Dade Police Department, working in the division that investigates allegations of wrongdoing by cops. Outside the office, authorities allege that the 45-year-old longtime officer worked with a drug trafficking organization to help plan a murder plot and get guns. A criminal complaint unsealed in U.S. District Court in New Jersey Tuesday accuses Mata, also known as \"The Milk Man,\" of using his role as a police officer to help the drug trafficking organization in exchange for money and gifts, including a Rolex watch. In one instance, the complaint alleges, Mata arranged to pay two assassins to kill rival drug dealers. The killers would pose as cops, pulling over their targets before shooting them, according to the compla...   \n",
       "2  A drunk driver who killed a young woman in a head-on crash while checking his mobile phone has been jailed for six years. Craig Eccleston-Todd, 27, was driving home from a night at a pub when he received a text message. As he was reading or replying to it, he veered across the road while driving round a bend and smashed into Rachel Titley’s car coming the other way. Craig Eccleston-Todd, 27 (left) was using his mobile phone when he crashed head-on into the car being driven by Rachel Titley, 28 (right). She died later from her injuries . The head-on crash took place in October 2013. Mr Eccleston-Todd's car was barely recognisable (pictured) Police said Eccleston-Todd had drunk at least three or four pints of beer before getting behind the wheel. He was found guilty of causing death by d...   \n",
       "3  (CNN) -- With a breezy sweep of his pen President Vladimir Putin wrote a new chapter into Crimea's turbulent history, committing the region to a future returned to Russian domain. Sixty years prior, Ukraine's breakaway peninsula was signed away just as swiftly by Soviet leader Nikita Khrushchev. But dealing with such a blatant land grab on its eastern flank won't be anywhere near as quick and easy for Europe's 28-member union. Because, unlike Crimea's rushed referendum, everyone has a say. After initially slapping visa restrictions and asset freezes on a limited number of little known politicians and military men, Europe is facing urgent calls to widen the scope of its measures to target the Russian business community in particular. The logic of this is that those who run Russia and ow...   \n",
       "4  Fleetwood are the only team still to have a 100% record in Sky Bet League One as a 2-0 win over Scunthorpe sent Graham Alexander’s men top of the table. The Cod Army are playing in the third tier for the first time in their history after six promotions in nine years and their remarkable ascent shows no sign of slowing with Jamie Proctor and Gareth Evans scoring the goals at Glanford Park. Fleetwood were one of five teams to have won two out of two but the other four clubs - Peterborough, Bristol City, Chesterfield and Crawley - all hit their first stumbling blocks. Posh were defeated 2-1 by Sheffield United, who had lost both of their opening contests. Jose Baxter’s opener gave the Blades a first-half lead, and although it was later cancelled out by Shaun Brisley’s goal, Ben Davies sna...   \n",
       "\n",
       "                                                                                                                                                                                                                                                                                                                                                                                                               highlights  \n",
       "0                                                                                                                                                                                          Bishop John Folda, of North Dakota, is taking time off after being diagnosed .\\nHe contracted the infection through contaminated food in Italy .\\nChurch members in Fargo, Grand Forks and Jamestown could have been exposed .  \n",
       "1                                                                                                                                                                                       Criminal complaint: Cop used his role to help cocaine traffickers .\\nRalph Mata, an internal affairs lieutenant, allegedly helped group get guns .\\nHe also arranged to pay two assassins in a murder plot, a complaint alleges .  \n",
       "2              Craig Eccleston-Todd, 27, had drunk at least three pints before driving car .\\nWas using phone when he veered across road in Yarmouth, Isle of Wight .\\nCrashed head-on into 28-year-old Rachel Titley's car, who died in hospital .\\nPolice say he would have been over legal drink-drive limit at time of crash .\\nHe was found guilty at Portsmouth Crown Court of causing death by dangerous driving .  \n",
       "3                                                                                                             Nina dos Santos says Europe must be ready to accept sanctions will hurt both sides .\\nTargeting Russia's business community would be one way of sapping their support for President Putin, she says .\\nBut she says Europe would have a hard time keeping its factories going without power from the east .  \n",
       "4  Fleetwood top of League One after 2-0 win at Scunthorpe .\\nPeterborough, Bristol City, Chesterfield and Crawley all drop first points of the season .\\nStand-in striker Matt Done scores a hat-trick as Rochdale thrash Crewe 5-2 .\\nWins for Notts County and Yeovil .\\nCoventry/Bradford and Oldham/Port Vale both end in draws .\\nA late Stephen Bywater own goal denies Gillingham three points against Millwall .  "
      ]
     },
     "execution_count": 5,
     "metadata": {},
     "output_type": "execute_result"
    }
   ],
   "source": [
    "pd.set_option('max_colwidth', 800)\n",
    "trainning_df.head(5)"
   ]
  },
  {
   "cell_type": "code",
   "execution_count": 6,
   "metadata": {
    "execution": {
     "iopub.execute_input": "2022-04-28T14:35:38.056102Z",
     "iopub.status.busy": "2022-04-28T14:35:38.054263Z",
     "iopub.status.idle": "2022-04-28T14:35:38.061224Z",
     "shell.execute_reply": "2022-04-28T14:35:38.060624Z",
     "shell.execute_reply.started": "2022-04-28T14:35:38.056040Z"
    }
   },
   "outputs": [],
   "source": [
    "MAX_LEN = 512\n",
    "SUMMARY_LEN = 150\n",
    "TRAINNING_SIZE = 5000"
   ]
  },
  {
   "cell_type": "code",
   "execution_count": 7,
   "metadata": {
    "execution": {
     "iopub.execute_input": "2022-04-28T14:35:38.068581Z",
     "iopub.status.busy": "2022-04-28T14:35:38.066238Z",
     "iopub.status.idle": "2022-04-28T14:35:38.083605Z",
     "shell.execute_reply": "2022-04-28T14:35:38.081434Z",
     "shell.execute_reply.started": "2022-04-28T14:35:38.068544Z"
    }
   },
   "outputs": [],
   "source": [
    "trainning_df = trainning_df.iloc[0:TRAINNING_SIZE,:].copy()\n",
    "\n",
    "trainning_article_ls = list(trainning_df['article'])\n",
    "trainning_highlight_ls = list(trainning_df['highlights'])\n",
    "\n",
    "del trainning_df"
   ]
  },
  {
   "cell_type": "code",
   "execution_count": 8,
   "metadata": {
    "execution": {
     "iopub.execute_input": "2022-04-28T14:35:38.085573Z",
     "iopub.status.busy": "2022-04-28T14:35:38.085178Z",
     "iopub.status.idle": "2022-04-28T14:35:38.096780Z",
     "shell.execute_reply": "2022-04-28T14:35:38.095880Z",
     "shell.execute_reply.started": "2022-04-28T14:35:38.085536Z"
    }
   },
   "outputs": [
    {
     "name": "stdout",
     "output_type": "stream",
     "text": [
      "Original Text : \n",
      "(CNN) -- A single phone call by Osama bin Laden's trusted courier tipped off U.S. officials to his Pakistan compound, ultimately leading to the raid that killed the al Qaeda leader, a senior Pakistani intelligence official told CNN Saturday. The telephone call the courier made was \"not the final one -- it was the initial piece of evidence\" that sparked the focus on the compound in Abbottabad, the official said. Four years ago, U.S. officials uncovered the identity of a trusted bin Laden courier -- later identified as a Kuwaiti named Abu Ahmad -- whom they believed was living with and protecting the al Qaeda leader. The Washington Post, citing U.S. intelligence officials, reported Friday that Americans had intercepted a \"catch-up phone call\" Ahmad took from an old friend. \"This is where you start the movie about the hunt for bin Laden,\" one U.S. official briefed on the intelligence-gathering leading up to the early Monday raid on the compound told the Washington Post. The Pakistani official told CNN the phone call was made by the courier, though he didn't know when. The courier and his brother were among those killed in Monday's raid. In recent days, the materials taken from bin Laden's compound continued to yield a trove of intelligence, including details about a possible attack on the 10th anniversary of 9/11. At a briefing Saturday focusing on the intelligence aspects of the raid, U.S. officials released five videos showing the al Qaeda leader. They were seized at his compound. One video looks like a home movie, a portrait of a graying man watching television, but it is an image that suggests how conscious bin Laden was of his image. The other videos showed him in more formal attire, making remarks, but U.S. officials removed the audio in all five videos. As early as February 2010, al Qaeda members discussed a plan to derail trains in the United States by placing obstructions on tracks over bridges and valleys, the alert said, according to one law enforcement official. The plan was to be executed later this year, coinciding with the 10th anniversary of the September 11 attacks, though no specific rail system was identified, the official said. The Department of Homeland Security confirmed a notice was sent to federal, state, local and tribal authorities. \"We have no information of any imminent terrorist threat to the U.S. rail sector, but wanted to make sure our partners are aware of the alleged plotting. It is unclear if any further planning has been conducted since February of last year,\" spokesman Matt Chandler said. Rail agencies across the United States heightened security. A U.S. official said that \"valuable information has been gleaned already\" from the information gathered at bin Laden's compound, though no specific plots or terrorist suspects were identified. But the material suggests that al Qaeda was particularly interested in striking Washington, New York, Los Angeles and Chicago, according to the law enforcement official who spoke on condition of anonymity. U.S. authorities have found that al Qaeda appeared especially interested in striking on significant dates like July 4, Christmas and the opening day of the United Nations. The material seized from the compound included audio and video equipment, suggesting bin Laden may have taped messages there, a U.S. official said. Ten hard drives, five computers and more than 100 storage devices, such as disks and thumb drives, were also found, a senior U.S. official told CNN. Dozens of people in Abbottabad have been arrested because of their suspected connections to the compound where Osama bin Laden was shot and killed, a Pakistani intelligence official said Friday. Investigators want to know whether any of the people are al Qaeda members or sympathizers. The United States and Pakistan have been allies for years in the anti-terrorism effort, but U.S. concerns that Pakistanis haven't been robust enough in the fight against Islamic militants and suspected U.S. drone attacks that killed innocent civilians have heightened tensions. Another suspected drone strike killed 12 suspected militants on Friday in the Pakistani tribal region. Questions remain over why and how Pakistani intelligence officials could not have known bin Laden was hiding out in the city, which is home to a military academy and has a strong military presence. Pakistani armed forces chiefs issued a statement Thursday admitting \"shortcomings in developing intelligence\" on the terrorist leader's presence in the country. The army chief of staff, Gen. Ashfaq Parvez Kayani, \"made it very clear that any similar action, violating the sovereignty of Pakistan, will warrant a review on the level of military/intelligence cooperation with the United States,\" the statement said. Since the raid, Pakistan has ordered U.S. military personnel on its territory drawn down to the \"minimum essential\" level, the statement said. CNN's Nick Paton Walsh contributed to this report .\n",
      "\n",
      "\n",
      "Summary Text : \n",
      "NEW: U.S. officials release five edited videos found at bin Laden's compound .\n",
      "Phone call was the \"initial piece of evidence\" leading to compound, Pakistani official says .\n",
      "The phone call was made to an old friend by bin Laden's courier, Post reports .\n",
      "Time of the phone call is unclear .\n",
      "===========================================================================================================\n",
      "\n",
      "\n",
      "Original Text : \n",
      "By . Paul Newman In Sydney . PUBLISHED: . 02:41 EST, 31 December 2013 . | . UPDATED: . 02:41 EST, 31 December 2013 . It is quite extraordinary that Alastair Cook’s position as England captain should even be a subject for debate, let alone his dismissal a serious option at the end of this admittedly tortuous Ashes. It is time to end this nonsense now. How any serious cricketing judge can believe that England would be better served by jettisoning the captain now, however badly his team have fared here, is beyond me. This is not football. This is no time to throw out the man who now has the chance to build his own England team, not lead Andrew Strauss’s. Right man for the job: Andy Flower is also adamant that Cook should remain England captain . Skipper: Captain Alastair Cook walks alone during day four at Melbourne, but has defended the current management structure within the camp . It has surely not been forgotten that this is Cook’s first defeat in six Test series as captain. There were no cries to get rid of him when England were creating history by coming from one down to earn an historic Test series win in India. And there were no complaints, other than from the tiresome Shane Warne, when Cook was leading England to a 3-0 Ashes victory last summer, a win that would have been greater but for ridiculous bad light regulations at the Oval. It is Cook’s misfortune to have come up against probably the two best, most pro-active captains in the world game at the moment in Brendon McCullum and Michael Clarke in his last four series. The England captain has suffered in the field, but not off it, by comparison with the New Zealand and Australian leaders but he has still only lost one of those four series. Pecking order: Stuart Broad is England's current Twenty20 captain and could replace Cook . I am not saying that Cook is a tactical genius. Far from it. His game-plan has looked defensive and unimaginative for much of this Ashes but that has mainly been because his team have been struggling so much. When England have been on top under Cook and his bowlers have been dictating terms then his apparent tactical inadequacies have been less pronounced. A captain, at the end of the day, can only ever be as good as his bowlers to a huge extent. The biggest reason to defend Cook the England captain is that he is having to learn arguably the toughest job in any sport at the highest level in front of the prying eyes of many a former international captain. England players are identified so young these days and invariably plucked out of the domestic system so early that they never have a chance to gain the county captaincy experience that many of the best England leaders have had before the ultimate elevation. Cook will never be one for an eye-catching, ‘look at me’ fielding place or bowling change. He is an under-stated character but a cricketer and man of substance who is destined to break every England batting record in the book and will always seek to lead by example rather than any ‘funky on-field tactics. Thrashing: England's latest loss at the MCG put them 4-0 behind and on course to be whitewashed . Dejection: Cook leads England off the field after their eight-wicket defeat in the fourth Ashes Test . The most important thing is that he does so much of his good work away from the spotlight, in the many off-field ways that a cricket captain must lead. The dressing room are totally with him, including Kevin Pietersen, who Cook bravely and rightly brought back into the England fold last summer. And, although it is perhaps a negative reason for advocating the status quo, who on earth could conceivably replace Cook as captain now, just when the need is greatest for his steady hand on the tiller and his runs at the top of the order? My colleague Mike Dickson, a cricket correspondent for nine years and a man who knows his subject having covered England under captains of real substance like Nasser Hussain and Michael Vaughan, advocates Stuart Broad and, yes, he has one of the best brains in the England cricket team. But the fact that England have quietly preferred Matt Prior and then, when he was dropped in Melbourne, Ian Bell rather than Broad as Test vice-captain says it all. A fast bowler with a history of leaving tours early through injury who plays in all forms of the game cannot feasibly be the captain of England. Carry on: Cook still needs the chance ton build his own side, not continue with Andrew Strauss's . Looking up: Alastair Cook's position as England captain is under threat after a disastrous Ashes tour . Elsewhere the captaincy cupboard is bare. Pietersen has the experience and know-how to have a second crack at the . job but the wounds from his serious brushes with authority run too deep . for it ever to be a viable proposition. England even preferred James Tredwell to Pietersen when they needed an emergency captain for a Twenty20 international last year. Ian Bell is another senior professional but nothing in his game and demeanour suggests he is a leader of men while the same reservations that apply to Broad would rule out Jimmy Anderson as a serious candidate even though he does not play Twenty20 cricket for England. England very much hope Joe Root will be Cook’s eventual successor but clearly the time for that is not now, particularly as he would be in the same captaincy boat as Cook in having had little chance to gain leadership experience before graduating to Test level. Leave Root alone to get back in the runs. So Cook it is but I admit, as Hussain has so eloquently pointed out in these pages, that he has to improve. He tried to fight the same battle here as Strauss did in winning three years ago but now is the time for change. To the future: Andy Flower wants to stay on as England coach despite the Ashes debacle . For a start Cook must make it absolutely clear who is in charge. This is his England now. Not Strauss’s. Not even really Andy Flower’s. As Duncan Fletcher, another great coach of England, would say – the coach is a consultant. It is the captain who is in charge of a cricket team. Do not let Broad and Anderson so clearly set their own fields, Alastair. Show them who is boss on the field as well as off it. Throw off the shackles of conservatism. Take control. There will still be times when he gets it wrong, like on the fateful third morning of the fourth Test when he seemed clueless against Brad Haddin, but those periods of play will become lesser the more he does the job. Cook has only been in full charge for a year, for heaven’s sake, and at 29 he should be in his prime as a player. Give him a bit more time and he will learn, as others like Hussain, Vaughan and Strauss did, with experience. Cook has risen to every other challenge set before him in his cricketing career and he will succeed in this one too. England will give him every chance to because they believe in him.\n",
      "\n",
      "\n",
      "Summary Text : \n",
      "Cook must get the chance to build his own side, not lead Andrew Strauss's .\n",
      "The Ashes loss is Cook's first Test series defeat in six as captain .\n",
      "Team director Andy Flower wants Cook to lead his England side forward .\n",
      "Twenty20 captain Stuart Broad is being tipped as a possible successor .\n",
      "===========================================================================================================\n",
      "\n",
      "\n",
      "Original Text : \n",
      "By . Daily Mail Reporter . PUBLISHED: . 01:15 EST, 12 August 2013 . | . UPDATED: . 14:41 EST, 12 August 2013 . The Mercedes Benz belonging to notorious Nazi leader Herman Goering sat for over half a century in a North Carolina garage and is now finally being restored. The car was seized by Allied authorities on the final day of World War II in May 1945 and shipped to the United States. Since then, the Mercedes 540K Cabriolet B, custom built for Hitler’s designated successor, was largely left to waste away until High Velocity Classics of Pompano Beach, Florida, stepped in to preserve the classic piece of history. Notorious: Hermann Göring eats soup during a break from the Nuremberg trials in 1945. His custom Mercedes was seized by allied forces on the final day of the war and has sat in a North Carolina garage for most the time since . War Relic: Officers of the Third Reich with Goering's custom-built Mercedes while (right) Colonel Heintges, the commander of the 7th Infantry, took possession of the car as his personal vehicle after the German defeat . The Mercedes is now in the hands of a Florida group, High Velocity Classics, Inc., who are assembling a team of experts and investors to restore the vehicle to concours quality . According to the Times of Israel, the car was considered a trophy of allied victory after it was captured at Hitler’s villa at Berchtesgaden at the close of the war. It was used by Colonel Heintges, the commander of the 7th Infantry who captured the vehicle, as his personal vehicle, which it remained during the Allied Occupation of Germany. Towards the end of the occupation, the car was sold as surplus to a U.S Army staff sergeant and brought to the United States. He kept it in Texas for a few years, and then sold it to Richard Taylor of North Carolina, who has kept it in his garage to this day. It was shipped to Texas, where it received a proper American paint job complete with army green body and allied star. The car stayed with Taylor up until recently, when High Velocity Classics owners Steven Saffer and David Rathbun heard about the relic. Write caption here . Relic: A Pompano Beach, Florida restoration group tracked down Goering's . Mercedes Benz 540K Cabriolet B to the North Carolina garage of Richard . Taylor, who even had its original documentation] . ‘Steve was having dinner one evening, and he ran into someone in the car business who told him the car was in existence,’ Rathbun told The Times of Israel. ‘We knew we had to follow up on this extraordinary piece of history.’ Two and a half months of searching later, Rathbun and Saffer’s efforts led them to Taylor. Though much of the car was in boxes after an aborted 1970 restoration attempt, they were able to verify its authenticity with the manufacturer, thanks in part to the original documentation Taylor still retained. History: Goering was Hitler's second in command. Two of the Third Reich . leader's cars are now in North America. The restorers of his custom . Mercedes intend to offer the car to a Holocaust or other World War II . museum . Rathbun said the car is one of just three belonging to Nazi leaders now in North America. Now, Rathbun said he and his partners intend to restore the car and offer it to a Holocaust or World War II museum. ‘We saved it, and we want to put it into the right hands,’ Rathbun said, adding that they intend to offer a portion of whatever profit the group makes from the restoration ‘to a Jewish cause.’ The car was commissioned by Goering in 1940, and delivered in 1941. Loaded with special features, the powerful vehicle was one of the fastest cars in the world at that time. Among its attributes are a custom body for a raised back seat and parade platform and, according to the records of Mercedes Benz, was the last of its type ever made. Hermann Goering amassed a personal fortune from confiscated Jewish property . Hermann Goering founded Hitler's Gestapo secret police and was a prime architect of the Nazi Holocaust. A fighter pilot in the First World War, Goering went on to join Hitler's Nationalist Socialist Party and eventually became his deputy in 1939. Goering was the head of the SA, also . known as the Brownshirts, and helped Heinrich Himmler set up Germany's . concentration camps. In 1938, he became head of Germany's armed forces and when the Second World War broke out the following year, he was put in charge of the Luftwaffe and led the Nazi air force during the Battle of Britain. Following Hitler's suicide in 1945, Goering surrendered to the U.S. Army in Austria. He was found guilty of war crimes at the Nuremberg trials and was sentenced to death. However, he cheated the hangman's noose by killing himself in his cell aged 53 with a phial of hidden cyanide. He was known as a Nazi 'magpie' and amassed a personal fortune through the confiscation of Jewish property. His collection included paintings, tapestries, jewellery, hunting ornaments, altarpieces and rugs.\n",
      "\n",
      "\n",
      "Summary Text : \n",
      "Hermann Goering had Mercedes Benz 540K Cabriolet B custom built in 1940 .\n",
      "The car was seized by American authorities on the final day of World War II .\n",
      "The car sat in North Carolina until it was rediscovered by a Florida classic car restoration group .\n",
      "===========================================================================================================\n",
      "\n",
      "\n"
     ]
    }
   ],
   "source": [
    "from random import sample\n",
    "\n",
    "for index in sample(list(np.arange(len(trainning_article_ls))),3):\n",
    "    print('Original Text : ')\n",
    "    print(trainning_article_ls[index])\n",
    "\n",
    "    print('\\n\\nSummary Text : ')\n",
    "    print(trainning_highlight_ls[index])\n",
    "    \n",
    "    print('===========================================================================================================\\n\\n')"
   ]
  },
  {
   "cell_type": "code",
   "execution_count": 9,
   "metadata": {
    "execution": {
     "iopub.execute_input": "2022-04-28T14:35:38.098650Z",
     "iopub.status.busy": "2022-04-28T14:35:38.098124Z",
     "iopub.status.idle": "2022-04-28T14:35:38.103906Z",
     "shell.execute_reply": "2022-04-28T14:35:38.103014Z",
     "shell.execute_reply.started": "2022-04-28T14:35:38.098617Z"
    }
   },
   "outputs": [
    {
     "name": "stdout",
     "output_type": "stream",
     "text": [
      "5000\n",
      "5000\n"
     ]
    }
   ],
   "source": [
    "print(len(trainning_article_ls))\n",
    "print(len(trainning_highlight_ls))"
   ]
  },
  {
   "cell_type": "code",
   "execution_count": 10,
   "metadata": {
    "execution": {
     "iopub.execute_input": "2022-04-28T14:35:38.106026Z",
     "iopub.status.busy": "2022-04-28T14:35:38.105581Z",
     "iopub.status.idle": "2022-04-28T14:35:38.151797Z",
     "shell.execute_reply": "2022-04-28T14:35:38.150893Z",
     "shell.execute_reply.started": "2022-04-28T14:35:38.105991Z"
    }
   },
   "outputs": [],
   "source": [
    "df = pd.DataFrame(columns=['target_text','source_text'])\n",
    "df['target_text'] = trainning_highlight_ls\n",
    "df['source_text'] = ['summarize: '+item for item in trainning_article_ls]"
   ]
  },
  {
   "cell_type": "code",
   "execution_count": 11,
   "metadata": {
    "execution": {
     "iopub.execute_input": "2022-04-28T14:35:38.157739Z",
     "iopub.status.busy": "2022-04-28T14:35:38.155828Z",
     "iopub.status.idle": "2022-04-28T14:35:47.108788Z",
     "shell.execute_reply": "2022-04-28T14:35:47.107719Z",
     "shell.execute_reply.started": "2022-04-28T14:35:38.157696Z"
    }
   },
   "outputs": [
    {
     "name": "stdout",
     "output_type": "stream",
     "text": [
      "\u001b[33mWARNING: Running pip as the 'root' user can result in broken permissions and conflicting behaviour with the system package manager. It is recommended to use a virtual environment instead: https://pip.pypa.io/warnings/venv\u001b[0m\n"
     ]
    }
   ],
   "source": [
    "!pip install simplet5 -q"
   ]
  },
  {
   "cell_type": "code",
   "execution_count": 12,
   "metadata": {
    "execution": {
     "iopub.execute_input": "2022-04-28T14:35:47.111028Z",
     "iopub.status.busy": "2022-04-28T14:35:47.110721Z",
     "iopub.status.idle": "2022-04-28T14:35:58.843915Z",
     "shell.execute_reply": "2022-04-28T14:35:58.842855Z",
     "shell.execute_reply.started": "2022-04-28T14:35:47.110987Z"
    }
   },
   "outputs": [],
   "source": [
    "from simplet5 import SimpleT5\n",
    "\n",
    "model = SimpleT5()\n",
    "model.from_pretrained(model_type=\"t5\", model_name=\"t5-base\")"
   ]
  },
  {
   "cell_type": "code",
   "execution_count": 13,
   "metadata": {
    "execution": {
     "iopub.execute_input": "2022-04-28T14:35:58.850776Z",
     "iopub.status.busy": "2022-04-28T14:35:58.850308Z",
     "iopub.status.idle": "2022-04-28T14:35:58.859127Z",
     "shell.execute_reply": "2022-04-28T14:35:58.858101Z",
     "shell.execute_reply.started": "2022-04-28T14:35:58.850728Z"
    }
   },
   "outputs": [],
   "source": [
    "MAX_EPOCHS = 5"
   ]
  },
  {
   "cell_type": "code",
   "execution_count": 14,
   "metadata": {
    "execution": {
     "iopub.execute_input": "2022-04-28T14:35:58.862498Z",
     "iopub.status.busy": "2022-04-28T14:35:58.860427Z",
     "iopub.status.idle": "2022-04-28T15:08:33.895129Z",
     "shell.execute_reply": "2022-04-28T15:08:33.894280Z",
     "shell.execute_reply.started": "2022-04-28T14:35:58.862453Z"
    }
   },
   "outputs": [
    {
     "data": {
      "application/vnd.jupyter.widget-view+json": {
       "model_id": "",
       "version_major": 2,
       "version_minor": 0
      },
      "text/plain": [
       "Validation sanity check: 0it [00:00, ?it/s]"
      ]
     },
     "metadata": {},
     "output_type": "display_data"
    },
    {
     "data": {
      "application/vnd.jupyter.widget-view+json": {
       "model_id": "232df25f9ab9422aa47a72e700a869f7",
       "version_major": 2,
       "version_minor": 0
      },
      "text/plain": [
       "Training: 0it [00:00, ?it/s]"
      ]
     },
     "metadata": {},
     "output_type": "display_data"
    },
    {
     "data": {
      "application/vnd.jupyter.widget-view+json": {
       "model_id": "",
       "version_major": 2,
       "version_minor": 0
      },
      "text/plain": [
       "Validating: 0it [00:00, ?it/s]"
      ]
     },
     "metadata": {},
     "output_type": "display_data"
    },
    {
     "data": {
      "application/vnd.jupyter.widget-view+json": {
       "model_id": "",
       "version_major": 2,
       "version_minor": 0
      },
      "text/plain": [
       "Validating: 0it [00:00, ?it/s]"
      ]
     },
     "metadata": {},
     "output_type": "display_data"
    },
    {
     "data": {
      "application/vnd.jupyter.widget-view+json": {
       "model_id": "",
       "version_major": 2,
       "version_minor": 0
      },
      "text/plain": [
       "Validating: 0it [00:00, ?it/s]"
      ]
     },
     "metadata": {},
     "output_type": "display_data"
    },
    {
     "data": {
      "application/vnd.jupyter.widget-view+json": {
       "model_id": "",
       "version_major": 2,
       "version_minor": 0
      },
      "text/plain": [
       "Validating: 0it [00:00, ?it/s]"
      ]
     },
     "metadata": {},
     "output_type": "display_data"
    },
    {
     "data": {
      "application/vnd.jupyter.widget-view+json": {
       "model_id": "",
       "version_major": 2,
       "version_minor": 0
      },
      "text/plain": [
       "Validating: 0it [00:00, ?it/s]"
      ]
     },
     "metadata": {},
     "output_type": "display_data"
    }
   ],
   "source": [
    "model.train(train_df=df[0:(int)(0.7*TRAINNING_SIZE)],\n",
    "            eval_df=df[(int)(0.7*TRAINNING_SIZE):TRAINNING_SIZE], \n",
    "            source_max_token_len=MAX_LEN, \n",
    "            target_max_token_len=SUMMARY_LEN, \n",
    "            batch_size=8, max_epochs=MAX_EPOCHS,use_gpu=True)"
   ]
  },
  {
   "cell_type": "code",
   "execution_count": 15,
   "metadata": {
    "execution": {
     "iopub.execute_input": "2022-04-28T15:08:33.899066Z",
     "iopub.status.busy": "2022-04-28T15:08:33.898837Z",
     "iopub.status.idle": "2022-04-28T15:08:33.908091Z",
     "shell.execute_reply": "2022-04-28T15:08:33.907085Z",
     "shell.execute_reply.started": "2022-04-28T15:08:33.899030Z"
    }
   },
   "outputs": [
    {
     "name": "stdout",
     "output_type": "stream",
     "text": [
      "outputs/simplet5-epoch-4-train-loss-1.0961-val-loss-1.5404\n"
     ]
    }
   ],
   "source": [
    "import os\n",
    "model_path = ''\n",
    "rootdir = 'outputs/'\n",
    "for it in os.scandir(rootdir):\n",
    "    if it.is_dir():\n",
    "        if 'simplet5-epoch-'+(str)(MAX_EPOCHS-1) in it.path:\n",
    "            model_path = it.path\n",
    "            print(model_path)"
   ]
  },
  {
   "cell_type": "code",
   "execution_count": 16,
   "metadata": {
    "execution": {
     "iopub.execute_input": "2022-04-28T15:08:33.909607Z",
     "iopub.status.busy": "2022-04-28T15:08:33.909291Z",
     "iopub.status.idle": "2022-04-28T15:08:39.492327Z",
     "shell.execute_reply": "2022-04-28T15:08:39.491452Z",
     "shell.execute_reply.started": "2022-04-28T15:08:33.909570Z"
    }
   },
   "outputs": [],
   "source": [
    "model.load_model(\"t5\",\"./\"+model_path, use_gpu=True)"
   ]
  },
  {
   "cell_type": "code",
   "execution_count": 17,
   "metadata": {
    "execution": {
     "iopub.execute_input": "2022-04-28T15:08:39.493911Z",
     "iopub.status.busy": "2022-04-28T15:08:39.493617Z",
     "iopub.status.idle": "2022-04-28T15:08:48.702742Z",
     "shell.execute_reply": "2022-04-28T15:08:48.701932Z",
     "shell.execute_reply.started": "2022-04-28T15:08:39.493874Z"
    }
   },
   "outputs": [],
   "source": [
    "import torch\n",
    "import json \n",
    "from transformers import T5Tokenizer, T5ForConditionalGeneration, T5Config\n",
    "\n",
    "no_tune_model = T5ForConditionalGeneration.from_pretrained('t5-base')\n",
    "tokenizer = T5Tokenizer.from_pretrained('t5-base')\n",
    "\n",
    "device = torch.device('cpu')"
   ]
  },
  {
   "cell_type": "code",
   "execution_count": null,
   "metadata": {
    "execution": {
     "iopub.execute_input": "2022-04-28T15:08:48.704487Z",
     "iopub.status.busy": "2022-04-28T15:08:48.704231Z"
    }
   },
   "outputs": [
    {
     "name": "stderr",
     "output_type": "stream",
     "text": [
      "Token indices sequence length is longer than the specified maximum sequence length for this model (857 > 512). Running this sequence through the model will result in indexing errors\n"
     ]
    },
    {
     "name": "stdout",
     "output_type": "stream",
     "text": [
      "Original Text : \n",
      "By . Hayley O'keeffe . PUBLISHED: . 05:23 EST, 31 October 2013 . | . UPDATED: . 12:53 EST, 31 October 2013 . When artist Alan Dodd was asked by friends to paint a mural on a blank 50-foot-long wall at their home he transformed it into an optical illusion. Friendly faces behind windows and lifelike archways leading to landscapes are painted onto the cottage, in Eye, Suffolk. And the images give an illusion of a make-believe world within. Nationally-renowned artist Alan Dodd stands with the unusual mural that he painted on the side of a friend's home in Eye, Suffolk . The largest painting in the Eye mural is a blacksmith's forge, which takes in the skyline features of the town's church and castle. Quirky characters and also animals feature on other parts of the house side. More... The picture you never thought you'd see... Anna Wintour eating a burger and fries! Artist gives Vogue editor and her fashion friends a calorie-laden makeover . Rare Italian 'San Gennaro' collection of gems said to be worth more than England's crown jewels goes on display in Rome . Sex slaves, public executions - yet glorious art like this: A majestic Roman eagle, newly unearthed in London, and a gripping account of life in AD100 . These include rabbits and chickens, and a captivating cat which stares from a painted window. Many of the images were inspired by the history of botany and horticulture. In one window Swedish botanist Carl Linneaus, who was the first person to categorise plants, sits writing with a quill pen. A parrot watches him from an ornate perch and an old fashioned wig sits beside him. Mr Dodd, who was taught by pop art pioneer David Hockney, paints the work, which he says is a homage to the market town's heritage . Mr Dodd adds the finishing touches to the masterpiece, which he says will benefit from being on a wall that stays out of the sun . The finished mural is incredibly detailed and Mr Dodd spent 55 hours up a ladder during the painting process . In another view influential British horticulturalist Gertrude Jekyll reclines in her rocking chair, looking into the secluded garden through the painted curtains. Mr Dodd's mural also features a red Royal Mail letterbox, adding even more colour to the finished work. The artist spent 55 days up a ladder to create images at the property in Eye, Suffolk. He says the stunning finished product is a homage to the heritage of the market town. In another detail from the mural an elderly lady reclines in a rocking chair next to a vase of flowers, while in a second window an intricate vase is displayed . Mr Dodd, 71, who lives in Weston, Suffolk, said: 'It was just a blank, long wall. 'You would not believe what a difference it has made to the space. 'The wall is about 650 square feet so it would not have been feasible to paint the whole thing so we decided to paint parts of it.' He added: 'The mural will also really benefit from being on a wall which is often away from direct sunlight.' Mr Dodd trained at the Royal Academy of Arts in the 1960s and was taught by influential pop art pioneer David Hockney. He now designs and paints murals for a living. The artist has used his skills to work on a number of important projects, including the Pompeiian ceiling decoration in the New Picture Room at Sir John Soane's Museum in London.\n",
      "\n",
      "\n",
      "Summary Text : \n",
      "Alan Dodd painted the stunning and unusual murals on the side of a friend's home in Eye, Suffolk .\n",
      "He took 55 hours to complete the work on the 50-foot-long house side and says it is a tribute to the town .\n",
      "He paints historical scenes and was taught by influential artist David Hockney .\n",
      "\n",
      "\n",
      "Fine tuned Predicted Summary Text : \n"
     ]
    },
    {
     "name": "stderr",
     "output_type": "stream",
     "text": [
      "Token indices sequence length is longer than the specified maximum sequence length for this model (859 > 512). Running this sequence through the model will result in indexing errors\n"
     ]
    },
    {
     "name": "stdout",
     "output_type": "stream",
     "text": [
      "[\"Alan Dodd painted the unusual mural on a friend's home in Eye, Suffolk. The 71-year-old spent 55 days up a ladder to complete the work. Mr Dodd says it is an homage to the market town's history.\"]\n",
      "\n",
      "\n",
      "Not Fine tuned Predicted Summary Text : \n",
      "artist spent 55 days up a ladder painting the 50-foot-long wall. he says it is an homage to the history of the market town in eye, suffolk - and its history is reflected in the work 'against direct sunlight'\n",
      "===========================================================================================================\n",
      "\n",
      "\n",
      "Original Text : \n",
      "Jailed: Joshua Sadler, 21, was sentenced to 12 months after admitting dangerous driving . The mother of a teenager who was killed when a friend crashed his car just four days after passing his test has spoken of her shock after the driver was jailed for only 12 months. Joshua Sadler, 21, lost control of his silver Renault Clio on a 60mph country road and smashed into a tree, killing front seat passenger Mikey Maguire, 19. Sadler had previously been convicted of a . string of serious motoring offences and twice banned from the road . before he even had a licence. He was seen on the night of the fatal crash performing handbrake turns and showing off in a car park. Sadler . pleaded guilty to causing death by careless driving and was sentenced . to 12 months in jail and banned him from driving for five years. Afterwards Mr Maguire’s mother Allison Jarman, 43, described the sentence as an ‘insult’. She said: 'When I was in court my head was in my hands and at one point I couldn’t even listen to what was happening. 'I . expected the sentence to be low because I have been doing a lot of . research online but when I heard it was 12 months it felt like a slap in . the face. 'Nothing can . bring Mikey back but 12 months for my son’s life is shocking. I was . absolutely speechless, he will be out in three months. 'Mikey and Joshua had known each other for years but I was under the impression that they weren’t close any more. 'He . had always been a bit of a troublemaker and had previous convictions . for driving offences. I always said he would end up hurting someone one . day, I just didn’t expect it to be my son.' The fatal crash happened on Huntick Road, Lytchett Matravers, near Poole, Dorset, on February 8 last year. Sadler, from Poole, lost control of his . car on a bend before it ploughed down a grass bank and struck the tree. Mr Maguire was pronounced dead at the scene. Victim: Mikey Maguire pictured on on holiday with his mother Allison, who described the sentence as an 'insult' to her son's memory . Sadler had previously been disqualified from driving after being convicted of two counts of aggravated vehicle taking. He appeared in court for one of the counts and driving without a licence and insurance in July 2010. In both incidents he lost control and caused more than £5,000 damage to one of the vehicles. Les Smith, defending, read out a statement from Sadler to Bournemouth Crown Court in which he expressed ‘regret and sorrow’ for the Mr Maguire’s death. He added: 'The incident haunts me every day and will do for the rest of my life. Nothing that is said or done to me can make me feel any worse.' As well as being jailed Sadler was disqualified from driving for five years and ordered to take an extended test at the end of the ban.\n",
      "\n",
      "\n",
      "Summary Text : \n",
      "Joshua Sadler, 21, lost control on 60mph country road and hit a tree .\n",
      "Front seat passenger Mikey Maguire, 19, was killed in the crash .\n",
      "Sadler had previous convictions for a .\n",
      "string of serious motoring offences .\n",
      "He was twice banned from the road .\n",
      "before he even had a licence .\n",
      "Seen on night of the fatal crash performing handbrake turns in a car park .\n",
      "Victim's mother described 12 month sentence as an 'insult' to her son's life .\n",
      "\n",
      "\n",
      "Fine tuned Predicted Summary Text : \n",
      "[\"Joshua Sadler, 21, lost control of his Renault Clio and smashed into a tree. Front seat passenger Mikey Maguire, 19, died at the scene. Sadler had previously been disqualified from driving after two counts of aggravated vehicle taking. He was twice banned from the road before he even had a licence. Mother Allison Jarman described the sentence as an 'insult' to her son's memory.\"]\n",
      "\n",
      "\n",
      "Not Fine tuned Predicted Summary Text : \n",
      "Joshua Sadler, 21, lost control of his car and smashed into a tree. front seat passenger Mikey maguire, 19, was killed in the crash in poole, d.c.\n",
      "===========================================================================================================\n",
      "\n",
      "\n",
      "Original Text : \n",
      "By . Mark Prigg . PUBLISHED: . 12:51 EST, 20 February 2014 . | . UPDATED: . 13:58 EST, 20 February 2014 . We swear far more on Twitter than in the real world, researchers have found. A major analysis of 51 million English language tweets revealed that one in 13 contains a curse. Researchers were also able to rank the most popular words, finding f**k was the most popular - and the top seven accounted for over 90% of offensive tweets. The most popular curse words on Twitter: Researchers examined a random one-month sample of 51 million English-language tweets from 14 million distinct user accounts . People curse more and more as the day passes, reaching a peak at 12 a.m. to 1:30 a.m. just before they go to bed, the researchers found. They also found people swore earlier in the week - Mondays, Tuesdays, and Wednesdays contained the most curse words relative to tweet volume. 'It’s a sizable fraction of the words we use,' Wenbo Wang, a PhD researcher at Wright State University who led the study, told Fastco. 'On average, one tweet out of 13 tweets will contain at least one cursing word,' 'Because of social media, people don’t see each other. 'They can say things they wouldn’t say in the physical world.' The team at Wright State University examined a random one-month sample of 51 million English-language tweets from 14 million distinct user accounts. They found that we curse more on Twitter than in real life, but tend to use only a few words. 'We found that the curse words occurred at the rate of 1.15% on Twitter, and 7.73% of all the tweets in our dataset contained curse words,' the team wrote in their paper, which was presented this week at the ACM Conference on Computer-Supported Cooperative Work & Social Computing. 'We also found that seven most frequently used curse words accounted for more than 90% of all the cursing occurrences.' The team say they wanted to find out it we cursed more on Twitter. 'Cursing is not uncommon during conversations in the physical world: 0.5% to 0.7% of all the words we speak are curse words, given that 1% of all the words are first-person plural pronouns (e.g., we, us, our),' the researchers wrote. Lack of imagination: The top seven curse words accounted for 90% of all curses, the researchers found . 'On social media, people can instantly chat with friends without face-to-face interaction, usually in a more public fashion and broadly disseminated through highly connected social network.' They also classified the cursing, and identified five different emotions from tweets - anger, joy, sadness, love, and thankfulness. 'Based on the classification results, we found that cursing on Twitter was . most closely associated with two negative emotions: sadness and anger. 'However, curse words could also be used to emphasize positive emotions such as joy or love.' Other insights in the paper involved timing, location, gender, and level of influence of the tweeters. People curse more and more as the day passes, reaching a peak at 12 a.m. to 1:30 a.m. before bedtime, and Mondays, Tuesdays, and Wednesdays contain the most curse words relative to tweet volume. Researcher say the hour before we go to sleep is when we are most likely to swear in a tweet . They also found user swore less when talking directly to another user. 'Our study of the relation between cursing and message types suggests that users perform self-censorship when they talk directly to other users. 'We find that users do curse more in relaxed environments, but the differences across different environments are very small, partly due to the fact that Twitter messages are posted in virtual digital world. They also found men tended to swear more. 'Men curse more than women, men overuse some curse words different from what women use and vice versa, and both men and women are more likely to curse in the same-gender contexts. Curses rises late at night just before people go to bed . A case of the Mondays? The study revealed we swear more in the early part of the week .\n",
      "\n",
      "\n",
      "Summary Text : \n",
      "Swearing peaks at 12 a.m. to 1:30 a.m.\n",
      "top seven curses accounted for over 90% of offensive tweets .\n",
      "one-month sample of 51 million English-language tweets analysed .\n",
      "\n",
      "\n",
      "Fine tuned Predicted Summary Text : \n",
      "['The study was carried out by researchers at Wright State University. It examined 51 million English-language tweets from 14 million distinct user accounts. Top seven curse words accounted for over 90% of offensive tweets.']\n",
      "\n",
      "\n",
      "Not Fine tuned Predicted Summary Text : \n",
      "researchers examined a random one-month sample of 51 million english-language tweets from 14 million distinct user accounts. f**k was the most popular - and the top seven accounted for over 90% of all curses, according to the study by researchers at the university of wyoming, california and nasa in ohio, in the u.s. researchers say the hour before we go to sleep is when we are most likely to swear in an tweet\n",
      "===========================================================================================================\n",
      "\n",
      "\n",
      "Original Text : \n",
      "By . Associated Press . Many of the exhausted dogs that have been in . search of victims of the deadly mudslide that buried a mountainside Washington . community will take a two-day break as the official death toll rose from 18 to 21. The dogs can lose their sensing ability if overworked in the cold and rain. ‘The . conditions on the slide field are difficult, so this is just a time to . take care of the dogs,’ said Kris Rietmann, a spokeswoman for the team . working on the eastern portion of the slide, which hit March 22 about 55 . miles northeast of Seattle and is one of the deadliest in U.S. history. Needed rest: Rescue dog Tryon, muddied from the day's work, stands with his handler near the west side of the mudslide on Highway 530 near mile marker 37  in Arlington, Washington. Dogs like Tryon have been given a two-day break from work because days of intense searching can dull their senses . Dogs from the Federal Emergency Management Agency that arrived more recently will continue working. Fifteen of the victims have been identified by the Snohomish County medical examiner, and six have yet to be identified, Biermann said. Another four bodies were found in the debris field on Sunday, but they won't be added to the official count until the medical examiner receives the bodies. Biermann said 30 people remain missing. Authorities have said the task of finding and identifying victims from the debris field has been extremely challenging, and not all may ultimately be recovered. Dirty job: Rescue dog Nexus, muddy from working onsite, waits to be decontaminated via hose. He's one of many that helped uncover four more bodies over the weekend . Slog: Periods of rain and wind have hampered efforts for days and constant exposure to the conditions can hurt dogs' ability to sense victims . Holding strong: Search and rescue teams navigate the wet, muddy terrain at the west side of the mudslide. While some dogs will be given a break, others will continue working in the unforgiving conditions over the next two days . Rescue dog Nexus, muddy from working onsite, strolls the staging area at the west side of the mudslide . FEMA dogs that were brought in more recently will continue to work as the local rescue dogs that have been searching for days will get a break . Crews have completed a makeshift road that will link one side of the debris field to the other, significantly aiding the recovery operation. They have also been working to clear mud and debris from the highway, leaving piles of gooey muck, splintered wood and housing insulation on the sides of the road. Searchers have had to contend with treacherous conditions, including septic tanks, gasoline and propane containers. When rescuers and dogs leave the site, they are hosed off by hazardous materials crews. The slide dammed up the North Fork of the Stillaguamish River, causing water to pool up on the east side. The river cut a new channel through the mud, but the rain has raised the water level nearly a foot, Rietmann said. In at least one place, the water level got so high that it covered areas that have already been searched, said Tim Pierce, leader of Washington Task Force 1, a search-and-rescue team. ‘At this point, there's no point in searching (that area) again until the water drops back down,’ he said. Rescuers should get some relief soon. Conditions were improving Sunday, and mainly dry weather is forecast Monday through Wednesday in western Washington. Devotion: The congregation of the Glad Tidings Assembly of God church in Darrington sings Sunday during morning church services . Staying strong: Much of the music and speaking at Sunday's service was devoted to reaction to the deadly mudslide that hit the nearby community of Oso . The size of the debris field is also smaller than initially thought, officials said Sunday. After review and analysis, geologists have determined it is about 300 acres — just under half the size of an earlier projection of 1 square mile. Away from the whirring chain saws and roaring bulldozers, many residents of nearby Darrington sought comfort in church services. ‘I can only compare it to a hot, hearty meal after a very cold day,’ said Slava Botamanenko, who works at the hospital in Arlington. He said he spent two nights there to be sure he was available for work after the mudslide blocked the road. All week, a steady stream of people has stopped in to pray at the Glad Tidings Assembly of God on the edge of town, said Lee Hagen, the senior pastor. ‘At a time like this, everybody knows they've got to have God's help,’ he said. Tough times: Search and rescue teams navigate the wet, muddy terrain at the west side of the mudslide. Soggy conditions have made the search effort difficult for both humans and dogs . Remembering what's important: An American flag pulled from the debris hangs in the staging area . Reaching out: Randy Fay, a volunteer rescue technician with Snohomish County's SnoHawk 10 rescue helicopter, helps Jetty Dooper, from the Netherlands . Terrible conditions: Search and rescue teams walk through a field of mud on a path of plywood at the west side of the mudslide . Evidence of tragedy: Assorted broken debris sits on a muddy suitcase pulled from the scene at the west side of the mudslide on Sunday . In it together: A sheriff chaplain offers a few words to a rescue worker as he enters the decontamination tent area . Firefighters navigate through downed trees as they carry shovels in the muck on Sunday . Country singer Susie McEntire, sister of Reba, performed for the congregation Sunday, crooning: ‘You'll get through this and you'll break new ground.’ At the St. John Mary Vianney Catholic church a few blocks away, Father Tim Sauer said: ‘Bless our communities, bless our people, bless our valley.’ The Rev. Owen Couch, a chaplain for the fire district in Darrington, said he's worried about the first responders. ‘My concern is when this slows down and they're not going full tilt, and they have time to kind of reflect on what they've seen and what they've done,’ he said. ‘That's when the critical incident stress starts to kick in.’ Steve Huot, lead chaplain for the Arlington Fire Department, said he is seeing people in various states. Some are in shock, while others have begun to grasp the reality of the disaster. Many are exhausted. ‘It's more about listening right now. You need to encourage them and maybe change their focus to staying busy for the group, for the team,’ he said. Unprecedented: A flag flies at half-staff on a log Sunday with the slope of the massive mudslide that struck Saturday, March 22 n the background .\n",
      "\n",
      "\n",
      "Summary Text : \n",
      "The dogs can lose their sensing abilities if overworked .\n",
      "FEMA dogs that arrived more recently will continue working .\n",
      "The death toll for the tragedy now stands at 21 with 30 still missing .\n",
      "Another four bodies were uncovered Sunday but cannot be added to the official list of victims until they are identified .\n",
      "\n",
      "\n",
      "Fine tuned Predicted Summary Text : \n",
      "['Many of the exhausted dogs will take a two-day break from work as the official death toll rises from 18 to 21. Dogs from the Federal Emergency Management Agency that arrived more recently will continue working. Geologists have determined it is about 300 acres — just under half the size of an earlier projection of 1 square mile.']\n",
      "\n",
      "\n",
      "Not Fine tuned Predicted Summary Text : \n"
     ]
    }
   ],
   "source": [
    "from random import sample\n",
    "\n",
    "for index in sample(list(np.arange(len(trainning_article_ls))),5):\n",
    "    print('Original Text : ')\n",
    "    print(trainning_article_ls[index])\n",
    "\n",
    "    print('\\n\\nSummary Text : ')\n",
    "    print(trainning_highlight_ls[index])\n",
    "\n",
    "    print('\\n\\nFine tuned Predicted Summary Text : ')\n",
    "    print(model.predict(trainning_article_ls[index]))\n",
    "    \n",
    "    print('\\n\\nNot Fine tuned Predicted Summary Text : ')\n",
    "    preprocess_text = trainning_article_ls[index].strip().replace(\"\\n\",\"\")\n",
    "    t5_prepared_Text = \"summarize: \"+preprocess_text\n",
    "    tokenized_text = tokenizer.encode(t5_prepared_Text, return_tensors=\"pt\").to(device)\n",
    "    summary_ids = no_tune_model.generate(tokenized_text,\n",
    "                                        num_beams=4,\n",
    "                                        no_repeat_ngram_size=2,\n",
    "                                        min_length=30,\n",
    "                                        max_length=SUMMARY_LEN,\n",
    "                                        early_stopping=True)\n",
    "    output = tokenizer.decode(summary_ids[0], skip_special_tokens=True)\n",
    "    print(output)\n",
    "    print('===========================================================================================================\\n\\n')"
   ]
  },
  {
   "cell_type": "code",
   "execution_count": null,
   "metadata": {},
   "outputs": [],
   "source": [
    "# !pip install rouge-score"
   ]
  },
  {
   "cell_type": "code",
   "execution_count": null,
   "metadata": {},
   "outputs": [],
   "source": [
    "# from rouge_score import rouge_scorer\n",
    "# scores=[]\n",
    "# scorer = rouge_scorer.RougeScorer(['rouge1'])\n",
    "# scorer.score(trainning_article_ls[index],trainning_highlight_ls[index])\n",
    "# scores.append(scorer.score(trainning_article_ls[index],trainning_highlight_ls[index]))"
   ]
  },
  {
   "cell_type": "code",
   "execution_count": null,
   "metadata": {},
   "outputs": [],
   "source": [
    "scores"
   ]
  },
  {
   "cell_type": "code",
   "execution_count": null,
   "metadata": {},
   "outputs": [],
   "source": [
    "type(model)"
   ]
  },
  {
   "cell_type": "code",
   "execution_count": null,
   "metadata": {},
   "outputs": [],
   "source": [
    "import joblib\n",
    "joblib.dump(model , \"final_model.pkl\")"
   ]
  },
  {
   "cell_type": "code",
   "execution_count": null,
   "metadata": {},
   "outputs": [],
   "source": [
    "new = joblib.load(\"./final_model.pkl\")\n",
    "type(new)"
   ]
  },
  {
   "cell_type": "code",
   "execution_count": null,
   "metadata": {},
   "outputs": [],
   "source": [
    "new.predict()"
   ]
  },
  {
   "cell_type": "code",
   "execution_count": null,
   "metadata": {},
   "outputs": [],
   "source": []
  },
  {
   "cell_type": "code",
   "execution_count": null,
   "metadata": {},
   "outputs": [],
   "source": []
  },
  {
   "cell_type": "code",
   "execution_count": null,
   "metadata": {},
   "outputs": [],
   "source": []
  }
 ],
 "metadata": {
  "kernelspec": {
   "display_name": "Python 3 (ipykernel)",
   "language": "python",
   "name": "python3"
  },
  "language_info": {
   "codemirror_mode": {
    "name": "ipython",
    "version": 3
   },
   "file_extension": ".py",
   "mimetype": "text/x-python",
   "name": "python",
   "nbconvert_exporter": "python",
   "pygments_lexer": "ipython3",
   "version": "3.9.7"
  }
 },
 "nbformat": 4,
 "nbformat_minor": 4
}
